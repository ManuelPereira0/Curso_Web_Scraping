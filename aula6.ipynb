{
 "cells": [
  {
   "cell_type": "markdown",
   "metadata": {},
   "source": [
    "### Obtendo Dados Paginados e Salvando em um CSV"
   ]
  },
  {
   "cell_type": "code",
   "execution_count": 3,
   "metadata": {},
   "outputs": [],
   "source": [
    "from selenium import webdriver\n",
    "from selenium.webdriver.common.by import By\n",
    "from selenium.webdriver.support.ui import Select\n",
    "from selenium.webdriver.support.wait import WebDriverWait\n",
    "from selenium.webdriver.support import expected_conditions as EC\n",
    "\n",
    "driver = webdriver.Firefox()"
   ]
  },
  {
   "cell_type": "code",
   "execution_count": 7,
   "metadata": {},
   "outputs": [],
   "source": [
    "driver.get('http://localhost:8000/#/exemplo/8')"
   ]
  },
  {
   "cell_type": "code",
   "execution_count": 13,
   "metadata": {},
   "outputs": [],
   "source": [
    "from dataclasses import dataclass\n",
    "\n",
    "@dataclass\n",
    "class Usuario:\n",
    "    avatar: str\n",
    "    nome: str\n",
    "    profissao: str\n",
    "    email: str\n",
    "    perfil: str\n",
    "    estado: str"
   ]
  },
  {
   "cell_type": "code",
   "execution_count": 16,
   "metadata": {},
   "outputs": [],
   "source": [
    "def raspar_dados_da_tabela():\n",
    "    linhas = driver.find_elements(By.CSS_SELECTOR, 'table#tabela-usuarios tbody tr')\n",
    "    \n",
    "    registros = []\n",
    "    \n",
    "    for linha in linhas:\n",
    "        dados = linha.get_property('children')\n",
    "        \n",
    "        registro = Usuario(\n",
    "            avatar = dados[0].find_element(By.TAG_NAME, 'img').get_attribute('src'),\n",
    "            nome = dados[1].text,\n",
    "            profissao = dados[2].text,\n",
    "            email = dados[3].text,\n",
    "            perfil = dados[4].text,\n",
    "            estado = dados[5].text\n",
    "        )\n",
    "        \n",
    "        registros.append(registro)\n",
    "    \n",
    "    return registros"
   ]
  },
  {
   "cell_type": "code",
   "execution_count": 21,
   "metadata": {},
   "outputs": [],
   "source": [
    "dados_da_tabela = []\n",
    "\n",
    "while True:\n",
    "    dados = raspar_dados_da_tabela()\n",
    "    dados_da_tabela.extend(dados)\n",
    "    \n",
    "    try:\n",
    "        btn_proximo = driver.find_element(By.XPATH, '//main//button[contains(text(), \"Próxima\")]')\n",
    "        btn_proximo.click()\n",
    "        \n",
    "    except Exception as e:\n",
    "        break"
   ]
  },
  {
   "cell_type": "code",
   "execution_count": 24,
   "metadata": {},
   "outputs": [],
   "source": [
    "import csv\n",
    "from dataclasses import fields\n",
    "from dataclasses import asdict\n",
    "\n",
    "with open('dados_aula6.csv', 'w', encoding='utf-8') as file:\n",
    "    headers = [field.name for field in fields(Usuario)]\n",
    "    file = csv.DictWriter(file, fieldnames=headers)\n",
    "    \n",
    "    file.writeheader()\n",
    "    \n",
    "    data_formatted = [asdict(data) for data in dados_da_tabela]\n",
    "    file.writerows(data_formatted)"
   ]
  }
 ],
 "metadata": {
  "kernelspec": {
   "display_name": ".venv",
   "language": "python",
   "name": "python3"
  },
  "language_info": {
   "codemirror_mode": {
    "name": "ipython",
    "version": 3
   },
   "file_extension": ".py",
   "mimetype": "text/x-python",
   "name": "python",
   "nbconvert_exporter": "python",
   "pygments_lexer": "ipython3",
   "version": "3.10.12"
  }
 },
 "nbformat": 4,
 "nbformat_minor": 2
}
