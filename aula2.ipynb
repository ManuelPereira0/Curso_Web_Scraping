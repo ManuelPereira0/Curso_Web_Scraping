{
 "cells": [
  {
   "cell_type": "markdown",
   "metadata": {},
   "source": [
    "Selecionando Elementos"
   ]
  },
  {
   "cell_type": "code",
   "execution_count": 1,
   "metadata": {},
   "outputs": [],
   "source": [
    "from selenium import webdriver\n",
    "from selenium.webdriver.common.by import By\n",
    "\n",
    "driver = webdriver.Firefox()"
   ]
  },
  {
   "cell_type": "code",
   "execution_count": 2,
   "metadata": {},
   "outputs": [],
   "source": [
    "driver.get('http://localhost:8000/#/exemplo/1')"
   ]
  },
  {
   "cell_type": "markdown",
   "metadata": {},
   "source": [
    "SELECIONAR PELO ID"
   ]
  },
  {
   "cell_type": "code",
   "execution_count": 24,
   "metadata": {},
   "outputs": [
    {
     "name": "stdout",
     "output_type": "stream",
     "text": [
      "\n",
      "      nome='Gael Macedo'\n",
      "      profissao='Interno Mercados Executivo'\n",
      "      signo='Sagitário'\n",
      "      genero='Feminino'\n",
      "\n"
     ]
    }
   ],
   "source": [
    "nome = driver.find_element(By.ID, 'user').get_property('value')\n",
    "profissao = driver.find_element(By.ID, 'role').get_property('value')\n",
    "signo = driver.find_element(By.ID, 'zodiac').get_property('value')\n",
    "genero = driver.find_element(By.ID, 'gender').get_property('value')\n",
    "print(f'''\n",
    "      {nome=}\n",
    "      {profissao=}\n",
    "      {signo=}\n",
    "      {genero=}\n",
    "''')"
   ]
  },
  {
   "cell_type": "markdown",
   "metadata": {},
   "source": [
    "Selecionar pelo Name"
   ]
  },
  {
   "cell_type": "code",
   "execution_count": 15,
   "metadata": {},
   "outputs": [
    {
     "name": "stdout",
     "output_type": "stream",
     "text": [
      "\n",
      "      nome='Sophia Costa'\n",
      "      profissao='Dinâmico Assurance Engenheiro'\n",
      "      signo='Gêmeos'\n",
      "      genero='Feminino'\n",
      "\n"
     ]
    }
   ],
   "source": [
    "nome = driver.find_element(By.NAME, 'fullname').get_property('value')\n",
    "profissao = driver.find_element(By.NAME, 'role').get_property('value')\n",
    "signo = driver.find_element(By.NAME, 'zodiacSign').get_property('value')\n",
    "genero = driver.find_element(By.NAME, 'genderOfBirth').get_property('value')\n",
    "print(f'''\n",
    "      {nome=}\n",
    "      {profissao=}\n",
    "      {signo=}\n",
    "      {genero=}\n",
    "''')"
   ]
  },
  {
   "cell_type": "markdown",
   "metadata": {},
   "source": [
    "Selecionar pela TAG_NAME"
   ]
  },
  {
   "cell_type": "code",
   "execution_count": 5,
   "metadata": {},
   "outputs": [
    {
     "name": "stdout",
     "output_type": "stream",
     "text": [
      "Dr. Fabiano Macedo\n",
      "Investidor Marketing Técnico\n",
      "Gêmeos\n",
      "Feminino\n"
     ]
    }
   ],
   "source": [
    "inputs = driver.find_elements(By.TAG_NAME, 'input')\n",
    "for input in inputs:\n",
    "    valor_input = input.get_property('value')\n",
    "    print(valor_input)"
   ]
  },
  {
   "cell_type": "markdown",
   "metadata": {},
   "source": [
    "<h5>Concatenar buscar para restringir a área de busca</h5>"
   ]
  },
  {
   "cell_type": "code",
   "execution_count": 8,
   "metadata": {},
   "outputs": [
    {
     "name": "stdout",
     "output_type": "stream",
     "text": [
      "Instagram\n",
      "Facebook\n",
      "Github\n",
      "YouTube\n",
      "Telegram\n"
     ]
    }
   ],
   "source": [
    "div_redes_sociais = driver.find_element(By.ID, 'social').find_elements(By.TAG_NAME, 'span')\n",
    "for rede_social in div_redes_sociais:\n",
    "    valor_rede_social = rede_social.text\n",
    "    print(valor_rede_social)"
   ]
  },
  {
   "cell_type": "markdown",
   "metadata": {},
   "source": [
    "Selecionar pelo LINK_TEXT/PARTIAL_LINK_TEXT"
   ]
  },
  {
   "cell_type": "code",
   "execution_count": 13,
   "metadata": {},
   "outputs": [
    {
     "name": "stdout",
     "output_type": "stream",
     "text": [
      "Instagram\n"
     ]
    }
   ],
   "source": [
    "#Busca que contenha o texto identido ao solicitado\n",
    "\n",
    "texto = driver.find_element(By.LINK_TEXT, 'Instagram')\n",
    "print(texto.text)\n"
   ]
  },
  {
   "cell_type": "code",
   "execution_count": 12,
   "metadata": {},
   "outputs": [
    {
     "name": "stdout",
     "output_type": "stream",
     "text": [
      "Instagram\n",
      "Telegram\n"
     ]
    }
   ],
   "source": [
    "#Busca que contenha a substring solicitada\n",
    "\n",
    "textos = driver.find_elements(By.PARTIAL_LINK_TEXT, 'gram')\n",
    "for texto in textos:\n",
    "    valor_texto = texto.text\n",
    "    print(valor_texto)"
   ]
  },
  {
   "cell_type": "markdown",
   "metadata": {},
   "source": [
    "Selecionando pela CLASS_NAME"
   ]
  },
  {
   "cell_type": "code",
   "execution_count": 18,
   "metadata": {},
   "outputs": [
    {
     "name": "stdout",
     "output_type": "stream",
     "text": [
      "Sophia Costa\n",
      "Dinâmico Assurance Engenheiro\n",
      "Gêmeos\n",
      "Feminino\n"
     ]
    }
   ],
   "source": [
    "styled_inputs = driver.find_elements(By.CLASS_NAME, 'styled-input')\n",
    "for styled_input in styled_inputs:\n",
    "    valor_styled_input = styled_input.get_property('value')\n",
    "    print(valor_styled_input)"
   ]
  },
  {
   "cell_type": "code",
   "execution_count": 19,
   "metadata": {},
   "outputs": [
    {
     "name": "stdout",
     "output_type": "stream",
     "text": [
      "Gêmeos\n",
      "Feminino\n"
     ]
    }
   ],
   "source": [
    "styled_inputs = driver.find_elements(By.CLASS_NAME, 'styled-input.optional-info')\n",
    "for styled_input in styled_inputs:\n",
    "    valor_styled_input = styled_input.get_property('value')\n",
    "    print(valor_styled_input)\n"
   ]
  },
  {
   "cell_type": "markdown",
   "metadata": {},
   "source": [
    "Selecionando com CSS_SELECTOR\n",
    "\n",
    "- `#`: Seleção de ID\n",
    "- `.`: Seleção de classe\n",
    "- `>`: Seleção de filhos diretos\n",
    "- `~`: Seleção de irmãos\n",
    "- `+`: Seleção de irmão imediato\n",
    "- `*`: Seleção de todos os elementos\n",
    "- `[property=\"value\"]`: Seleção de propriedades\n",
    "  - `^=`: Corresponde a um prefixo\n",
    "  - `$=`: Corresponde a um sufixo\n",
    "  - `*=`: Corresponde a uma substring\n",
    "  - `|=`: Corresponde a um texto seguido por hífen\n",
    "  - `~=`: Corresponde a uma palavra\n"
   ]
  },
  {
   "cell_type": "markdown",
   "metadata": {},
   "source": [
    "### ID"
   ]
  },
  {
   "cell_type": "code",
   "execution_count": 4,
   "metadata": {},
   "outputs": [
    {
     "data": {
      "text/plain": [
       "<selenium.webdriver.remote.webelement.WebElement (session=\"3940340f-e578-454b-8cc5-25a3153cc5be\", element=\"684d3f09-91c8-41a8-b760-37c29047315c\")>"
      ]
     },
     "execution_count": 4,
     "metadata": {},
     "output_type": "execute_result"
    }
   ],
   "source": [
    "#Select em uma TAG <div> de ID <social>\n",
    "\n",
    "driver.find_element(By.CSS_SELECTOR, 'div#social')"
   ]
  },
  {
   "cell_type": "markdown",
   "metadata": {},
   "source": [
    "### CLASS"
   ]
  },
  {
   "cell_type": "code",
   "execution_count": 8,
   "metadata": {},
   "outputs": [
    {
     "data": {
      "text/plain": [
       "[<selenium.webdriver.remote.webelement.WebElement (session=\"3940340f-e578-454b-8cc5-25a3153cc5be\", element=\"e2e96c28-e6f8-4eeb-aeaf-91a1266baa89\")>,\n",
       " <selenium.webdriver.remote.webelement.WebElement (session=\"3940340f-e578-454b-8cc5-25a3153cc5be\", element=\"6925a6cb-9193-4e7c-9db5-9344f7d2d94c\")>]"
      ]
     },
     "execution_count": 8,
     "metadata": {},
     "output_type": "execute_result"
    }
   ],
   "source": [
    "#Select nas TAGs <input> de Classe <styled-input> e <optional-info>\n",
    "\n",
    "driver.find_elements(By.CSS_SELECTOR, 'input.styled-input.optional-info')"
   ]
  },
  {
   "cell_type": "markdown",
   "metadata": {},
   "source": [
    "### PARENTESCO"
   ]
  },
  {
   "cell_type": "markdown",
   "metadata": {},
   "source": [
    "##### Descendente"
   ]
  },
  {
   "cell_type": "code",
   "execution_count": 9,
   "metadata": {},
   "outputs": [
    {
     "data": {
      "text/plain": [
       "[<selenium.webdriver.remote.webelement.WebElement (session=\"3940340f-e578-454b-8cc5-25a3153cc5be\", element=\"e2e96c28-e6f8-4eeb-aeaf-91a1266baa89\")>,\n",
       " <selenium.webdriver.remote.webelement.WebElement (session=\"3940340f-e578-454b-8cc5-25a3153cc5be\", element=\"6925a6cb-9193-4e7c-9db5-9344f7d2d94c\")>]"
      ]
     },
     "execution_count": 9,
     "metadata": {},
     "output_type": "execute_result"
    }
   ],
   "source": [
    "#Select nas TAGs <input> de Classe <optional-info> que é descendente de uma TAG <div> de Classe <main-container>\n",
    "\n",
    "\n",
    "driver.find_elements(By.CSS_SELECTOR, 'div.main-container input.optional-info')"
   ]
  },
  {
   "cell_type": "markdown",
   "metadata": {},
   "source": [
    "##### Filho Direto"
   ]
  },
  {
   "cell_type": "code",
   "execution_count": 10,
   "metadata": {},
   "outputs": [
    {
     "data": {
      "text/plain": [
       "[<selenium.webdriver.remote.webelement.WebElement (session=\"3940340f-e578-454b-8cc5-25a3153cc5be\", element=\"eb1e1a9d-2654-4d01-bd26-9d7c6ae2e85f\")>,\n",
       " <selenium.webdriver.remote.webelement.WebElement (session=\"3940340f-e578-454b-8cc5-25a3153cc5be\", element=\"c3cf9325-20eb-44cd-a568-f3dc37ceac1b\")>,\n",
       " <selenium.webdriver.remote.webelement.WebElement (session=\"3940340f-e578-454b-8cc5-25a3153cc5be\", element=\"fcdbe33b-2cc0-438d-8998-3f91dfe995ea\")>,\n",
       " <selenium.webdriver.remote.webelement.WebElement (session=\"3940340f-e578-454b-8cc5-25a3153cc5be\", element=\"7db8bcb6-f593-49cc-adb3-40ad0bc8814f\")>,\n",
       " <selenium.webdriver.remote.webelement.WebElement (session=\"3940340f-e578-454b-8cc5-25a3153cc5be\", element=\"0cfbd879-de81-49a4-b61c-9461094a0fb5\")>]"
      ]
     },
     "execution_count": 10,
     "metadata": {},
     "output_type": "execute_result"
    }
   ],
   "source": [
    "#Select  nas TAGs <a> que são filhas direta da TAG <div> de ID <social>\n",
    "\n",
    "driver.find_elements(By.CSS_SELECTOR, 'div#social > a')"
   ]
  },
  {
   "cell_type": "markdown",
   "metadata": {},
   "source": [
    "##### Todos os Elementos Descendentes"
   ]
  },
  {
   "cell_type": "code",
   "execution_count": 11,
   "metadata": {},
   "outputs": [
    {
     "data": {
      "text/plain": [
       "[<selenium.webdriver.remote.webelement.WebElement (session=\"3940340f-e578-454b-8cc5-25a3153cc5be\", element=\"7852854c-86cf-4d29-974b-bd19039b9539\")>,\n",
       " <selenium.webdriver.remote.webelement.WebElement (session=\"3940340f-e578-454b-8cc5-25a3153cc5be\", element=\"36d7705c-98c7-4bf6-bc66-71807d6d0cd3\")>,\n",
       " <selenium.webdriver.remote.webelement.WebElement (session=\"3940340f-e578-454b-8cc5-25a3153cc5be\", element=\"0f5daf82-b711-42a2-9761-f50f37c8a731\")>,\n",
       " <selenium.webdriver.remote.webelement.WebElement (session=\"3940340f-e578-454b-8cc5-25a3153cc5be\", element=\"324ed9e5-9aff-4c8e-ace8-f5a2736b3714\")>,\n",
       " <selenium.webdriver.remote.webelement.WebElement (session=\"3940340f-e578-454b-8cc5-25a3153cc5be\", element=\"abe7ef65-3743-4102-838a-11672e50b662\")>,\n",
       " <selenium.webdriver.remote.webelement.WebElement (session=\"3940340f-e578-454b-8cc5-25a3153cc5be\", element=\"e839e91f-0da3-42bd-a54f-37312728a799\")>,\n",
       " <selenium.webdriver.remote.webelement.WebElement (session=\"3940340f-e578-454b-8cc5-25a3153cc5be\", element=\"1e49a6c3-b8d4-40dc-9e51-85cb4bb4f1b3\")>,\n",
       " <selenium.webdriver.remote.webelement.WebElement (session=\"3940340f-e578-454b-8cc5-25a3153cc5be\", element=\"fb09b03c-406f-4fbf-9471-9a1ac766bb74\")>,\n",
       " <selenium.webdriver.remote.webelement.WebElement (session=\"3940340f-e578-454b-8cc5-25a3153cc5be\", element=\"3be0815b-a006-4f4c-8276-4d60b1a7bedc\")>,\n",
       " <selenium.webdriver.remote.webelement.WebElement (session=\"3940340f-e578-454b-8cc5-25a3153cc5be\", element=\"7aad0466-9928-4b0c-8eae-4f44c2aaaf06\")>,\n",
       " <selenium.webdriver.remote.webelement.WebElement (session=\"3940340f-e578-454b-8cc5-25a3153cc5be\", element=\"e2e96c28-e6f8-4eeb-aeaf-91a1266baa89\")>,\n",
       " <selenium.webdriver.remote.webelement.WebElement (session=\"3940340f-e578-454b-8cc5-25a3153cc5be\", element=\"d3949746-e555-43be-9c4f-82d790d8bb63\")>,\n",
       " <selenium.webdriver.remote.webelement.WebElement (session=\"3940340f-e578-454b-8cc5-25a3153cc5be\", element=\"6925a6cb-9193-4e7c-9db5-9344f7d2d94c\")>,\n",
       " <selenium.webdriver.remote.webelement.WebElement (session=\"3940340f-e578-454b-8cc5-25a3153cc5be\", element=\"408048a9-49a8-4be3-b587-568a63c0f01d\")>,\n",
       " <selenium.webdriver.remote.webelement.WebElement (session=\"3940340f-e578-454b-8cc5-25a3153cc5be\", element=\"684d3f09-91c8-41a8-b760-37c29047315c\")>,\n",
       " <selenium.webdriver.remote.webelement.WebElement (session=\"3940340f-e578-454b-8cc5-25a3153cc5be\", element=\"eb1e1a9d-2654-4d01-bd26-9d7c6ae2e85f\")>,\n",
       " <selenium.webdriver.remote.webelement.WebElement (session=\"3940340f-e578-454b-8cc5-25a3153cc5be\", element=\"bc30edff-a550-4e94-8347-61e49214a946\")>,\n",
       " <selenium.webdriver.remote.webelement.WebElement (session=\"3940340f-e578-454b-8cc5-25a3153cc5be\", element=\"2009bfd2-f865-4738-b760-da7b24e36bd7\")>,\n",
       " <selenium.webdriver.remote.webelement.WebElement (session=\"3940340f-e578-454b-8cc5-25a3153cc5be\", element=\"c3cf9325-20eb-44cd-a568-f3dc37ceac1b\")>,\n",
       " <selenium.webdriver.remote.webelement.WebElement (session=\"3940340f-e578-454b-8cc5-25a3153cc5be\", element=\"d8d00c60-1bf0-4b9b-917e-0fe6f585fdcc\")>,\n",
       " <selenium.webdriver.remote.webelement.WebElement (session=\"3940340f-e578-454b-8cc5-25a3153cc5be\", element=\"24db7069-cf51-4155-8b3c-337d83b54554\")>,\n",
       " <selenium.webdriver.remote.webelement.WebElement (session=\"3940340f-e578-454b-8cc5-25a3153cc5be\", element=\"fcdbe33b-2cc0-438d-8998-3f91dfe995ea\")>,\n",
       " <selenium.webdriver.remote.webelement.WebElement (session=\"3940340f-e578-454b-8cc5-25a3153cc5be\", element=\"a9ae90d0-038f-4278-a30d-f0f1bbe73304\")>,\n",
       " <selenium.webdriver.remote.webelement.WebElement (session=\"3940340f-e578-454b-8cc5-25a3153cc5be\", element=\"845b431e-0c37-4e17-a5f1-5b252fb9963b\")>,\n",
       " <selenium.webdriver.remote.webelement.WebElement (session=\"3940340f-e578-454b-8cc5-25a3153cc5be\", element=\"7db8bcb6-f593-49cc-adb3-40ad0bc8814f\")>,\n",
       " <selenium.webdriver.remote.webelement.WebElement (session=\"3940340f-e578-454b-8cc5-25a3153cc5be\", element=\"14be4dec-0ec5-473e-8915-051baa76e98b\")>,\n",
       " <selenium.webdriver.remote.webelement.WebElement (session=\"3940340f-e578-454b-8cc5-25a3153cc5be\", element=\"e66f5cc5-adcc-47f8-a274-8f20c01c3cc9\")>,\n",
       " <selenium.webdriver.remote.webelement.WebElement (session=\"3940340f-e578-454b-8cc5-25a3153cc5be\", element=\"0cfbd879-de81-49a4-b61c-9461094a0fb5\")>,\n",
       " <selenium.webdriver.remote.webelement.WebElement (session=\"3940340f-e578-454b-8cc5-25a3153cc5be\", element=\"052ad571-0537-4f02-995b-3bda8f0d1b35\")>,\n",
       " <selenium.webdriver.remote.webelement.WebElement (session=\"3940340f-e578-454b-8cc5-25a3153cc5be\", element=\"7fa5c7d4-368b-4b81-ad7b-e3ee1bebcff7\")>]"
      ]
     },
     "execution_count": 11,
     "metadata": {},
     "output_type": "execute_result"
    }
   ],
   "source": [
    "#Select em todos os elementos que são descendentes da TAG <div> de Classe <main-container>\n",
    "\n",
    "driver.find_elements(By.CSS_SELECTOR, 'div.main-container *')"
   ]
  }
 ],
 "metadata": {
  "kernelspec": {
   "display_name": ".venv",
   "language": "python",
   "name": "python3"
  },
  "language_info": {
   "codemirror_mode": {
    "name": "ipython",
    "version": 3
   },
   "file_extension": ".py",
   "mimetype": "text/x-python",
   "name": "python",
   "nbconvert_exporter": "python",
   "pygments_lexer": "ipython3",
   "version": "3.10.12"
  }
 },
 "nbformat": 4,
 "nbformat_minor": 2
}
