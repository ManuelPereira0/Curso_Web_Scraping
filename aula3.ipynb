{
 "cells": [
  {
   "cell_type": "markdown",
   "metadata": {},
   "source": [
    "Interagido e Preenchedo Formulário"
   ]
  },
  {
   "cell_type": "code",
   "execution_count": 4,
   "metadata": {},
   "outputs": [],
   "source": [
    "from selenium import webdriver\n",
    "from selenium.webdriver.common.by import By\n",
    "\n",
    "driver = webdriver.Firefox()\n",
    "\n",
    "driver.get('http://localhost:8000/#/exemplo/2')"
   ]
  },
  {
   "cell_type": "code",
   "execution_count": 5,
   "metadata": {},
   "outputs": [],
   "source": [
    "email = driver.find_element(By.NAME, 'email')\n",
    "senha = driver.find_element(By.NAME, 'senha')\n",
    "botao_enviar = driver.find_element(By.CSS_SELECTOR, 'button[type=\"submit\"]')"
   ]
  },
  {
   "cell_type": "code",
   "execution_count": 6,
   "metadata": {},
   "outputs": [],
   "source": [
    "#Utiliza o <send_keys> para preencher o INPUT\n",
    "\n",
    "email.send_keys('manuel.neto@gmail.com')"
   ]
  },
  {
   "cell_type": "code",
   "execution_count": 7,
   "metadata": {},
   "outputs": [],
   "source": [
    "#Utiliza o <send_keys> para preencher o INPUT\n",
    "\n",
    "senha.send_keys('1234')"
   ]
  },
  {
   "cell_type": "code",
   "execution_count": 8,
   "metadata": {},
   "outputs": [],
   "source": [
    "# Utiliza o <click()> para clicar o botão\n",
    "\n",
    "botao_enviar.click()"
   ]
  },
  {
   "cell_type": "code",
   "execution_count": 9,
   "metadata": {},
   "outputs": [],
   "source": [
    "#Utiliza o <clear()> para limpar o input antes de escrever o novo email\n",
    "\n",
    "email.clear()\n",
    "email.send_keys('manuel.pereira@gmail.com')"
   ]
  },
  {
   "cell_type": "code",
   "execution_count": 11,
   "metadata": {},
   "outputs": [],
   "source": [
    "# O submit() procura o botão de envio do formulário e clica nele, semprecisar criar uma variável para o botão\n",
    "\n",
    "email.clear()\n",
    "senha.clear()\n",
    "\n",
    "email.send_keys('manuel.neto@gmail.com')\n",
    "senha.send_keys('1234')\n",
    "email.submit()"
   ]
  },
  {
   "cell_type": "code",
   "execution_count": 13,
   "metadata": {},
   "outputs": [],
   "source": [
    "#Biblioteca que permite fazer com que o Selenium simule o clique nas teclas do teclado\n",
    "\n",
    "from selenium.webdriver.common.keys import Keys"
   ]
  },
  {
   "cell_type": "code",
   "execution_count": null,
   "metadata": {},
   "outputs": [],
   "source": [
    "#Utiliza o <send_keys(Keys.<botão que você quer apertar>)>\n",
    "\n",
    "email.clear()\n",
    "senha.clear()\n",
    "\n",
    "email.send_keys('manuel.pereira@gmail.com')\n",
    "senha.send_keys('123456')\n",
    "\n",
    "email.send_keys(Keys.ENTER)"
   ]
  }
 ],
 "metadata": {
  "kernelspec": {
   "display_name": ".venv",
   "language": "python",
   "name": "python3"
  },
  "language_info": {
   "codemirror_mode": {
    "name": "ipython",
    "version": 3
   },
   "file_extension": ".py",
   "mimetype": "text/x-python",
   "name": "python",
   "nbconvert_exporter": "python",
   "pygments_lexer": "ipython3",
   "version": "3.12.4"
  }
 },
 "nbformat": 4,
 "nbformat_minor": 2
}
