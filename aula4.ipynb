{
 "cells": [
  {
   "cell_type": "markdown",
   "metadata": {},
   "source": [
    "Selecionando Campos em um Dropdown"
   ]
  },
  {
   "cell_type": "markdown",
   "metadata": {},
   "source": [
    "##### 1. Selecionando Quando o SELECT Recebe Somente 1 Valor por Vez"
   ]
  },
  {
   "cell_type": "code",
   "execution_count": 1,
   "metadata": {},
   "outputs": [],
   "source": [
    "from selenium import webdriver\n",
    "from selenium.webdriver.common.by import By\n",
    "\n",
    "driver = webdriver.Firefox()\n",
    "\n",
    "driver.get('http://localhost:8000/#/exemplo/3')"
   ]
  },
  {
   "cell_type": "code",
   "execution_count": 2,
   "metadata": {},
   "outputs": [],
   "source": [
    "#Biblioteca que permite fazer a seleção de itens selecionaveis\n",
    "\n",
    "from selenium.webdriver.support.ui import Select"
   ]
  },
  {
   "cell_type": "code",
   "execution_count": 4,
   "metadata": {},
   "outputs": [
    {
     "name": "stdout",
     "output_type": "stream",
     "text": [
      "0 Distrito Federal\n",
      "1 Goiás\n",
      "2 Mato Grosso\n",
      "3 Mato Grosso do Sul\n"
     ]
    }
   ],
   "source": [
    "select_regiao = Select(driver.find_element(By.NAME, 'regiao'))\n",
    "\n",
    "#Utiliza o for para listar o value e o texto de cada <option> do select\n",
    "\n",
    "for option in select_regiao.options:\n",
    "    print(option.get_attribute('value'), option.text)"
   ]
  },
  {
   "cell_type": "code",
   "execution_count": 7,
   "metadata": {},
   "outputs": [],
   "source": [
    "select_regiao.select_by_index(3)"
   ]
  },
  {
   "cell_type": "code",
   "execution_count": 8,
   "metadata": {},
   "outputs": [],
   "source": [
    "select_regiao.select_by_visible_text('Goiás')"
   ]
  },
  {
   "cell_type": "code",
   "execution_count": 10,
   "metadata": {},
   "outputs": [],
   "source": [
    "select_regiao.select_by_value('2')"
   ]
  },
  {
   "cell_type": "code",
   "execution_count": 11,
   "metadata": {},
   "outputs": [
    {
     "data": {
      "text/plain": [
       "'Mato Grosso'"
      ]
     },
     "execution_count": 11,
     "metadata": {},
     "output_type": "execute_result"
    }
   ],
   "source": [
    "#Mostra qual é a opção do Select que está selecionada no momento\n",
    "\n",
    "select_regiao.first_selected_option.text"
   ]
  },
  {
   "cell_type": "markdown",
   "metadata": {},
   "source": [
    "##### 2. Selecionando Quando o SELECT Recebe Mais de 1 Valor por Vez"
   ]
  },
  {
   "cell_type": "code",
   "execution_count": 17,
   "metadata": {},
   "outputs": [
    {
     "name": "stdout",
     "output_type": "stream",
     "text": [
      "0 Distrito Federal\n",
      "1 Goiás\n",
      "2 Mato Grosso\n",
      "3 Mato Grosso do Sul\n"
     ]
    }
   ],
   "source": [
    "multi = Select(driver.find_element(By.CSS_SELECTOR, '#multi-select select'))\n",
    "\n",
    "for option in multi.options:\n",
    "    print(option.get_attribute('value'), option.text)\n",
    "    \n",
    "multi.select_by_index(1)"
   ]
  },
  {
   "cell_type": "code",
   "execution_count": 18,
   "metadata": {},
   "outputs": [
    {
     "name": "stdout",
     "output_type": "stream",
     "text": [
      "1 Goiás\n",
      "3 Mato Grosso do Sul\n"
     ]
    }
   ],
   "source": [
    "#Utiliza o <all_selected_options> para mostrar todos os elementos selecionados\n",
    "\n",
    "for selected in multi.all_selected_options:\n",
    "    print(selected.get_attribute('value'), selected.text)"
   ]
  },
  {
   "cell_type": "code",
   "execution_count": 19,
   "metadata": {},
   "outputs": [],
   "source": [
    "#Utiliza o <deselect_all> para desselecionar todos os elementos selecionados\n",
    "# Tem a possibildade de desselecionar por: Index, Value e Visible_text\n",
    "\n",
    "multi.deselect_all()"
   ]
  },
  {
   "cell_type": "markdown",
   "metadata": {},
   "source": [
    "##### Exemplo: Selecionar Todos os 2º Elementos de Cada Select"
   ]
  },
  {
   "cell_type": "code",
   "execution_count": 21,
   "metadata": {},
   "outputs": [],
   "source": [
    "all_select = driver.find_elements(By.TAG_NAME, 'select')\n",
    "for select in all_select:\n",
    "    select = Select(select)\n",
    "    select.select_by_index(1)"
   ]
  }
 ],
 "metadata": {
  "kernelspec": {
   "display_name": ".venv",
   "language": "python",
   "name": "python3"
  },
  "language_info": {
   "codemirror_mode": {
    "name": "ipython",
    "version": 3
   },
   "file_extension": ".py",
   "mimetype": "text/x-python",
   "name": "python",
   "nbconvert_exporter": "python",
   "pygments_lexer": "ipython3",
   "version": "3.12.4"
  }
 },
 "nbformat": 4,
 "nbformat_minor": 2
}
