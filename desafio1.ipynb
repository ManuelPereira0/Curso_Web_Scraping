{
 "cells": [
  {
   "cell_type": "markdown",
   "metadata": {},
   "source": [
    "##### O Desafio Consiste em Ler o Arquivo JSON e Preencher o Formulário"
   ]
  },
  {
   "cell_type": "code",
   "execution_count": 9,
   "metadata": {},
   "outputs": [],
   "source": [
    "import json\n",
    "import datetime\n",
    "from selenium import webdriver\n",
    "from selenium.webdriver.common.by import By\n",
    "from selenium.webdriver.support.ui import Select"
   ]
  },
  {
   "cell_type": "code",
   "execution_count": null,
   "metadata": {},
   "outputs": [],
   "source": [
    "driver = webdriver.Firefox()\n",
    "\n",
    "driver.get('http://localhost:8000/#/desafio/1')"
   ]
  },
  {
   "cell_type": "code",
   "execution_count": 27,
   "metadata": {},
   "outputs": [
    {
     "name": "stdout",
     "output_type": "stream",
     "text": [
      "8\n",
      "7\n",
      "8\n",
      "8\n",
      "4\n",
      "12\n",
      "6\n",
      "10\n",
      "5\n",
      "9\n"
     ]
    }
   ],
   "source": [
    "with open ('./desafio_1.json') as file:\n",
    "    data = json.load(file)\n",
    "    \n",
    "    for linha in data:\n",
    "        email = linha['email']\n",
    "        senha = linha['senha']\n",
    "        \n",
    "        #Utilizar a biblioteca datetime para converter e dividir a data\n",
    "        dt = datetime.datetime.strptime(linha['data-de-nascimento'], '%Y-%m-%d')\n",
    "        \n",
    "        newsletter = linha['newsletter']\n",
    "        \n",
    "        input_email = driver.find_element(By.NAME, 'email')\n",
    "        input_email.clear()\n",
    "        input_email.send_keys(email)\n",
    "        \n",
    "        input_senha = driver.find_element(By.NAME, 'senha')\n",
    "        input_senha.clear()\n",
    "        input_senha.send_keys(senha)\n",
    "        \n",
    "        select_dia = Select(driver.find_element(By.NAME, 'dia'))\n",
    "        select_dia.select_by_visible_text(str(dt.day))\n",
    "        \n",
    "        select_mes = Select(driver.find_element(By.NAME, 'mes'))\n",
    "        select_mes.select_by_visible_text(str(dt.month))\n",
    "        \n",
    "        select_ano = Select(driver.find_element(By.NAME, 'ano'))\n",
    "        select_ano.select_by_visible_text(str(dt.year))\n",
    "        \n",
    "        newsletter_button = driver.find_element(By.ID, 'airplane-mode')\n",
    "        button_on = True if newsletter_button.get_attribute('aria-checked') == 'true' else False\n",
    "        if button_on != newsletter:\n",
    "            newsletter_button.click()\n",
    "        \n",
    "        input_email.submit()        \n",
    "        "
   ]
  }
 ],
 "metadata": {
  "kernelspec": {
   "display_name": ".venv",
   "language": "python",
   "name": "python3"
  },
  "language_info": {
   "codemirror_mode": {
    "name": "ipython",
    "version": 3
   },
   "file_extension": ".py",
   "mimetype": "text/x-python",
   "name": "python",
   "nbconvert_exporter": "python",
   "pygments_lexer": "ipython3",
   "version": "3.12.4"
  }
 },
 "nbformat": 4,
 "nbformat_minor": 2
}
