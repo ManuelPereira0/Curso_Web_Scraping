{
 "cells": [
  {
   "cell_type": "markdown",
   "metadata": {},
   "source": [
    "## Desafio consistem em pegar o nome de um usuário de uma aba, pesquisar em outra aba, coletar os dados e preencher o formulário"
   ]
  },
  {
   "cell_type": "code",
   "execution_count": 10,
   "metadata": {},
   "outputs": [],
   "source": [
    "from selenium import webdriver\n",
    "from selenium.webdriver.common.by import By\n",
    "from selenium.webdriver.support.wait import WebDriverWait\n",
    "from selenium.webdriver.support import expected_conditions as EC\n",
    "from selenium.webdriver.support.ui import Select\n",
    "\n",
    "driver = webdriver.Firefox()"
   ]
  },
  {
   "cell_type": "code",
   "execution_count": 11,
   "metadata": {},
   "outputs": [],
   "source": [
    "driver.get('http://localhost:8000/#/desafio/2')"
   ]
  },
  {
   "cell_type": "code",
   "execution_count": 12,
   "metadata": {},
   "outputs": [],
   "source": [
    "driver.switch_to.new_window('tab')\n",
    "driver.switch_to.window(window_name=driver.window_handles[-1])\n",
    "driver.get('http://localhost:8000/#/desafio/3')"
   ]
  },
  {
   "cell_type": "code",
   "execution_count": 13,
   "metadata": {},
   "outputs": [
    {
     "name": "stdout",
     "output_type": "stream",
     "text": [
      "Message: Unable to locate element: [id=\"usuario\"]; For documentation on this error, please visit: https://www.selenium.dev/documentation/webdriver/troubleshooting/errors#no-such-element-exception\n",
      "Stacktrace:\n",
      "RemoteError@chrome://remote/content/shared/RemoteError.sys.mjs:8:8\n",
      "WebDriverError@chrome://remote/content/shared/webdriver/Errors.sys.mjs:193:5\n",
      "NoSuchElementError@chrome://remote/content/shared/webdriver/Errors.sys.mjs:511:5\n",
      "dom.find/</<@chrome://remote/content/shared/DOM.sys.mjs:136:16\n",
      "\n"
     ]
    }
   ],
   "source": [
    "while True:\n",
    "    try:\n",
    "        driver.switch_to.window(window_name=driver.window_handles[-1])\n",
    "        \n",
    "        usuario = driver.find_element(By.ID, 'usuario').text\n",
    "\n",
    "        driver.switch_to.window(window_name=driver.window_handles[0])\n",
    "        \n",
    "        input_user = driver.find_element(By.CSS_SELECTOR, 'input.px-4')\n",
    "        input_user.clear()\n",
    "        input_user.send_keys(usuario)\n",
    "        \n",
    "        botao_pesquisar = driver.find_element(By.CSS_SELECTOR, '.text-white')\n",
    "        botao_pesquisar.click()\n",
    "        \n",
    "        wait = WebDriverWait(driver=driver, timeout=20)\n",
    "        wait.until(EC.presence_of_element_located(locator=(By.CSS_SELECTOR, 'div.users-list')))\n",
    "        divs = driver.find_elements(By.CSS_SELECTOR, 'div.bg-gray-50')\n",
    "        \n",
    "        for div in divs:\n",
    "            dados = div.find_element(By.TAG_NAME, 'div')\n",
    "            nome = dados.find_element(By.TAG_NAME, 'h3').text\n",
    "            profissao = div.find_element(By.TAG_NAME, 'span').text\n",
    "            email = div.find_element(By.CSS_SELECTOR, 'ul > li:nth-child(1)').text[8:]\n",
    "            telefone = div.find_element(By.CSS_SELECTOR, 'ul > li:nth-child(2)').text[10:]\n",
    "            usuario = div.find_element(By.CSS_SELECTOR, 'ul > li:nth-child(3)').text[9:]\n",
    "            estado = div.find_element(By.CSS_SELECTOR, 'ul > li:nth-child(4)').text[8:]\n",
    "            \n",
    "            driver.switch_to.window(window_name=driver.window_handles[-1])\n",
    "            \n",
    "            input_name = driver.find_element(By.ID, 'radix-:r0:')\n",
    "            input_name.clear()\n",
    "            input_name.send_keys(nome)\n",
    "            \n",
    "            input_profissao = driver.find_element(By.ID, 'radix-:r1:')\n",
    "            input_profissao.clear()\n",
    "            input_profissao.send_keys(profissao)\n",
    "            \n",
    "            input_email = driver.find_element(By.ID, 'radix-:r2:')\n",
    "            input_email.clear()\n",
    "            input_email.send_keys(email)\n",
    "            \n",
    "            input_telefone = driver.find_element(By.ID, 'radix-:r3:')\n",
    "            input_telefone.clear()\n",
    "            input_telefone.send_keys(telefone)\n",
    "            \n",
    "            input_usuario = driver.find_element(By.ID, 'radix-:r4:')\n",
    "            input_usuario.clear()\n",
    "            input_usuario.send_keys(usuario)\n",
    "            \n",
    "            select_estado = Select(driver.find_element(By.ID, 'radix-:r5:'))\n",
    "            select_estado.select_by_visible_text(estado)\n",
    "            \n",
    "            input_name.submit()\n",
    "            \n",
    "            driver.switch_to.window(window_name=driver.window_handles[0])           \n",
    "            \n",
    "    except Exception as e:\n",
    "        print(e)\n",
    "        break"
   ]
  }
 ],
 "metadata": {
  "kernelspec": {
   "display_name": ".venv",
   "language": "python",
   "name": "python3"
  },
  "language_info": {
   "codemirror_mode": {
    "name": "ipython",
    "version": 3
   },
   "file_extension": ".py",
   "mimetype": "text/x-python",
   "name": "python",
   "nbconvert_exporter": "python",
   "pygments_lexer": "ipython3",
   "version": "3.10.12"
  }
 },
 "nbformat": 4,
 "nbformat_minor": 2
}
