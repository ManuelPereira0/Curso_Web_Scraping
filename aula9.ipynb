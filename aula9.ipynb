{
 "cells": [
  {
   "cell_type": "markdown",
   "metadata": {},
   "source": [
    "## ActionChains"
   ]
  },
  {
   "cell_type": "code",
   "execution_count": 1,
   "metadata": {},
   "outputs": [],
   "source": [
    "from selenium import webdriver\n",
    "from selenium.webdriver.common.by import By\n",
    "from selenium.webdriver.support.wait import WebDriverWait\n",
    "from selenium.webdriver.support import expected_conditions as EC\n",
    "from selenium.webdriver.common.action_chains import ActionChains\n",
    "\n",
    "driver = webdriver.Firefox()"
   ]
  },
  {
   "cell_type": "code",
   "execution_count": 2,
   "metadata": {},
   "outputs": [],
   "source": [
    "driver.get('http://localhost:8000/#/exemplo/7')"
   ]
  },
  {
   "cell_type": "code",
   "execution_count": 4,
   "metadata": {},
   "outputs": [],
   "source": [
    "img = driver.find_element(By.ID, 'imagem_4')"
   ]
  },
  {
   "cell_type": "markdown",
   "metadata": {},
   "source": [
    "##### move_to_element"
   ]
  },
  {
   "cell_type": "code",
   "execution_count": 29,
   "metadata": {},
   "outputs": [],
   "source": [
    "# Simular colocar o mouse em cima do elemento\n",
    "\n",
    "ActionChains(driver).move_to_element(img).perform()"
   ]
  },
  {
   "cell_type": "markdown",
   "metadata": {},
   "source": [
    "##### move_by_offset"
   ]
  },
  {
   "cell_type": "code",
   "execution_count": 10,
   "metadata": {},
   "outputs": [],
   "source": [
    "# Simula mexer o mouse em x e y\n",
    "\n",
    "ActionChains(driver).move_by_offset(xoffset=140, yoffset=80).perform()"
   ]
  },
  {
   "cell_type": "markdown",
   "metadata": {},
   "source": [
    "##### scroll_to_element | scroll_by_amount | scroll_from_origin"
   ]
  },
  {
   "cell_type": "code",
   "execution_count": 46,
   "metadata": {},
   "outputs": [],
   "source": [
    "img = driver.find_element(By.ID, 'imagem_3')"
   ]
  },
  {
   "cell_type": "code",
   "execution_count": 47,
   "metadata": {},
   "outputs": [],
   "source": [
    "# Faz um scroll até o elemento ficar visível na tela\n",
    "\n",
    "ActionChains(driver).scroll_to_element(img).perform()"
   ]
  },
  {
   "cell_type": "code",
   "execution_count": 48,
   "metadata": {},
   "outputs": [],
   "source": [
    "# Faz um scroll no primeiro scroll da tela, em x e y\n",
    "\n",
    "ActionChains(driver).scroll_by_amount(delta_x=0, delta_y=100).perform()"
   ]
  },
  {
   "cell_type": "code",
   "execution_count": 54,
   "metadata": {},
   "outputs": [],
   "source": [
    "# Faz um scroll a partir de uma origem determinada\n",
    "\n",
    "from selenium.webdriver.common.actions.wheel_input import ScrollOrigin\n",
    "\n",
    "img = driver.find_element(By.ID, 'imagem_0')\n",
    "scroll_origin  =ScrollOrigin.from_element(img)\n",
    "\n",
    "ActionChains(driver).scroll_from_origin(scroll_origin=scroll_origin, delta_x=0, delta_y=200).perform()"
   ]
  },
  {
   "cell_type": "markdown",
   "metadata": {},
   "source": [
    "##### click | double_click"
   ]
  },
  {
   "cell_type": "code",
   "execution_count": 55,
   "metadata": {},
   "outputs": [],
   "source": [
    "driver.get('http://localhost:8000/#/exemplo/8')"
   ]
  },
  {
   "cell_type": "code",
   "execution_count": 57,
   "metadata": {},
   "outputs": [],
   "source": [
    "proximo = driver.find_element(By.XPATH, '//main//button[contains(text(), \"Próxima\")]')"
   ]
  },
  {
   "cell_type": "code",
   "execution_count": 58,
   "metadata": {},
   "outputs": [],
   "source": [
    "# Clicar no botão\n",
    "\n",
    "ActionChains(driver).click(proximo).perform()"
   ]
  },
  {
   "cell_type": "code",
   "execution_count": null,
   "metadata": {},
   "outputs": [],
   "source": [
    "# Dar um duplo clique no botão\n",
    "\n",
    "# Maneira 1\n",
    "ActionChains(driver).click(proximo).click(proximo).perform()"
   ]
  },
  {
   "cell_type": "code",
   "execution_count": 59,
   "metadata": {},
   "outputs": [],
   "source": [
    "# Maneira 2\n",
    "ActionChains(driver).double_click(proximo).perform()"
   ]
  },
  {
   "cell_type": "markdown",
   "metadata": {},
   "source": [
    "##### pause | click_and_hold | release"
   ]
  },
  {
   "cell_type": "code",
   "execution_count": 60,
   "metadata": {},
   "outputs": [],
   "source": [
    "# Adiciona uma pausa entre as ações\n",
    "\n",
    "ActionChains(driver).click(proximo).pause(5).click(proximo).perform()"
   ]
  },
  {
   "cell_type": "code",
   "execution_count": 62,
   "metadata": {},
   "outputs": [],
   "source": [
    "# Clica e segura no botão por 3s, depois solta o botão\n",
    "\n",
    "ActionChains(driver).click_and_hold(proximo).pause(3).release().perform()"
   ]
  },
  {
   "cell_type": "markdown",
   "metadata": {},
   "source": [
    "##### drag_and_drop"
   ]
  },
  {
   "cell_type": "code",
   "execution_count": 77,
   "metadata": {},
   "outputs": [],
   "source": [
    "driver.get('http://localhost:8000/#/exemplo/9')"
   ]
  },
  {
   "cell_type": "code",
   "execution_count": 78,
   "metadata": {},
   "outputs": [],
   "source": [
    "# Segura o elemento e arrasta\n",
    "\n",
    "drag_source = driver.find_element(By.ID, 'drag-source')\n",
    "drag_target = driver.find_element(By.ID, 'drag-target')"
   ]
  },
  {
   "cell_type": "code",
   "execution_count": 79,
   "metadata": {},
   "outputs": [],
   "source": [
    "ActionChains(driver).drag_and_drop(source=drag_source, target=drag_target).perform()"
   ]
  },
  {
   "cell_type": "markdown",
   "metadata": {},
   "source": [
    "##### context_click"
   ]
  },
  {
   "cell_type": "code",
   "execution_count": 80,
   "metadata": {},
   "outputs": [],
   "source": [
    "# Clica com o botão direito no elemento\n",
    "\n",
    "img = driver.find_element(By.ID, 'main-image')\n",
    "\n",
    "ActionChains(driver).context_click(img).perform()"
   ]
  },
  {
   "cell_type": "markdown",
   "metadata": {},
   "source": [
    "##### Enviar Teclas"
   ]
  },
  {
   "cell_type": "code",
   "execution_count": 81,
   "metadata": {},
   "outputs": [],
   "source": [
    "from selenium.webdriver.common.keys import Keys"
   ]
  },
  {
   "cell_type": "code",
   "execution_count": 82,
   "metadata": {},
   "outputs": [],
   "source": [
    "# Simula o clique da tecla CONTROL\n",
    "\n",
    "ActionChains(driver).key_down(Keys.CONTROL).perform()"
   ]
  },
  {
   "cell_type": "code",
   "execution_count": 83,
   "metadata": {},
   "outputs": [],
   "source": [
    "# Simula o atalho CONTROL + C\n",
    "\n",
    "ActionChains(driver).key_down(Keys.CONTROL).send_keys('c').key_up(Keys.CONTROL).perform()"
   ]
  },
  {
   "cell_type": "code",
   "execution_count": 86,
   "metadata": {},
   "outputs": [],
   "source": [
    "# Copiar o titulo da tela e colar\n",
    "\n",
    "titulo = driver.find_element(By.CSS_SELECTOR, 'main div.title')\n",
    "\n",
    "# Selecionar o titulo\n",
    "ActionChains(driver).double_click(titulo).click(titulo).perform()\n",
    "\n",
    "# Simula o atalho CONTROL + C\n",
    "ActionChains(driver).key_down(Keys.CONTROL).send_keys('c').key_up(Keys.CONTROL).perform()"
   ]
  },
  {
   "cell_type": "code",
   "execution_count": null,
   "metadata": {},
   "outputs": [
    {
     "data": {
      "text/plain": [
       "'Actions Chains'"
      ]
     },
     "execution_count": 87,
     "metadata": {},
     "output_type": "execute_result"
    }
   ],
   "source": [
    "from pandas.io.clipboard import clipboard_set, clipboard_get\n",
    "\n",
    "# Retona o texto que está no Ctrl+C\n",
    "clipboard_get()"
   ]
  },
  {
   "cell_type": "code",
   "execution_count": 88,
   "metadata": {},
   "outputs": [
    {
     "data": {
      "text/plain": [
       "'Programador'"
      ]
     },
     "execution_count": 88,
     "metadata": {},
     "output_type": "execute_result"
    }
   ],
   "source": [
    "# Altera o texto que está no Ctrl+C\n",
    "clipboard_set('Programador')\n",
    "clipboard_get()"
   ]
  }
 ],
 "metadata": {
  "kernelspec": {
   "display_name": ".venv",
   "language": "python",
   "name": "python3"
  },
  "language_info": {
   "codemirror_mode": {
    "name": "ipython",
    "version": 3
   },
   "file_extension": ".py",
   "mimetype": "text/x-python",
   "name": "python",
   "nbconvert_exporter": "python",
   "pygments_lexer": "ipython3",
   "version": "3.10.12"
  }
 },
 "nbformat": 4,
 "nbformat_minor": 2
}
