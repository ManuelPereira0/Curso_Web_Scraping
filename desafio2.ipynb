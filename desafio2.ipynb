{
 "cells": [
  {
   "cell_type": "markdown",
   "metadata": {},
   "source": [
    "#### Desafio consiste em pegar os nomes de um JSON, procurar nome a nome no site, coletar as informações e inserir em um CSV"
   ]
  },
  {
   "cell_type": "code",
   "execution_count": 27,
   "metadata": {},
   "outputs": [],
   "source": [
    "import json\n",
    "import csv\n",
    "from selenium import webdriver\n",
    "from selenium.webdriver.common.by import By\n",
    "from selenium.webdriver.support.ui import Select\n",
    "from selenium.webdriver.support.wait import WebDriverWait\n",
    "from selenium.webdriver.support import expected_conditions as EC\n",
    "\n",
    "driver = webdriver.Firefox()"
   ]
  },
  {
   "cell_type": "code",
   "execution_count": 28,
   "metadata": {},
   "outputs": [],
   "source": [
    "driver.get('http://localhost:8000/#/desafio/2')"
   ]
  },
  {
   "cell_type": "code",
   "execution_count": 37,
   "metadata": {},
   "outputs": [],
   "source": [
    "with open ('desafio_2.json') as file:\n",
    "    usuarios = json.load(file)\n",
    "\n",
    "with open('dados_desafio2.csv', mode='a', newline='', encoding='utf-8') as file:\n",
    "    writer = csv.writer(file, delimiter=';')\n",
    "    writer.writerow(['Nome', 'Profissão', 'Email', 'Telefone', 'Usuario', 'Estado', 'Link da Imagem'])\n",
    "    \n",
    "    for usuario in usuarios:\n",
    "        input_user = driver.find_element(By.CSS_SELECTOR, 'input.px-4')\n",
    "        input_user.clear()\n",
    "        input_user.send_keys(usuario)\n",
    "        \n",
    "        botao_pesquisar = driver.find_element(By.CSS_SELECTOR, '.text-white')\n",
    "        botao_pesquisar.click()\n",
    "        \n",
    "        wait = WebDriverWait(driver=driver, timeout=20)\n",
    "        wait.until(EC.presence_of_element_located(locator=(By.CSS_SELECTOR, 'div.users-list')))\n",
    "        divs = driver.find_elements(By.CSS_SELECTOR, 'div.bg-gray-50')\n",
    "        \n",
    "        for div in divs:\n",
    "            link_image = div.find_element(By.TAG_NAME, 'img').get_attribute('src')\n",
    "            \n",
    "            dados = div.find_element(By.TAG_NAME, 'div')\n",
    "            nome = dados.find_element(By.TAG_NAME, 'h3').text\n",
    "            profissao = div.find_element(By.TAG_NAME, 'span').text\n",
    "            email = div.find_element(By.CSS_SELECTOR, 'ul > li:nth-child(1)').text[8:]\n",
    "            telefone = div.find_element(By.CSS_SELECTOR, 'ul > li:nth-child(2)').text[10:]\n",
    "            usuario = div.find_element(By.CSS_SELECTOR, 'ul > li:nth-child(3)').text[9:]\n",
    "            estado = div.find_element(By.CSS_SELECTOR, 'ul > li:nth-child(4)').text[8:]\n",
    "            \n",
    "            writer.writerow([nome, profissao, email, telefone, usuario, estado, link_image])\n",
    "\n",
    "        \n",
    "         "
   ]
  },
  {
   "cell_type": "code",
   "execution_count": null,
   "metadata": {},
   "outputs": [],
   "source": [
    "\n",
    "    "
   ]
  }
 ],
 "metadata": {
  "kernelspec": {
   "display_name": ".venv",
   "language": "python",
   "name": "python3"
  },
  "language_info": {
   "codemirror_mode": {
    "name": "ipython",
    "version": 3
   },
   "file_extension": ".py",
   "mimetype": "text/x-python",
   "name": "python",
   "nbconvert_exporter": "python",
   "pygments_lexer": "ipython3",
   "version": "3.10.12"
  }
 },
 "nbformat": 4,
 "nbformat_minor": 2
}
